{
  "cells": [
    {
      "cell_type": "markdown",
      "metadata": {
        "jukit_cell_id": "OdTC4wmsjY"
      },
      "source": [
        "# Assignment 01\n",
        "\n",
        "## Quesiton 1"
      ]
    },
    {
      "cell_type": "code",
      "metadata": {
        "jukit_cell_id": "rtQzzfphhu"
      },
      "source": [
        "# Importing Libraries\n",
        "import requests\n",
        "from bs4 import BeautifulSoup\n",
        "from tqdm import tqdm\n",
        "import pandas as pd\n",
        "import csv\n",
        "import torch\n",
        "from transformers import AutoTokenizer, AutoModelForTokenClassification\n",
        "from transformers import pipeline\n",
        "from random import randint"
      ],
      "outputs": [],
      "execution_count": null
    },
    {
      "cell_type": "markdown",
      "metadata": {
        "jukit_cell_id": "Yz5gou41wX"
      },
      "source": [
        "## Part (a)"
      ]
    },
    {
      "cell_type": "code",
      "metadata": {
        "jukit_cell_id": "5F7zlVI0W8"
      },
      "source": [
        "# Scraping all the recipies link\n",
        "base_url = 'https://www.bbc.co.uk'\n",
        "urls = [[f'{base_url}/food/recipes/a-z/{chr(i)}/{j}#featured-content' for j in range(1, 65)]\n",
        "        for i in range(ord('a'), ord('z') + 1)]\n",
        "\n",
        "recipes = []\n",
        "for url in tqdm(urls):\n",
        "    for page in url:\n",
        "        response = requests.get(page)\n",
        "        if response.status_code == 200:\n",
        "            soup = BeautifulSoup(response.content, 'html.parser')\n",
        "            page_title = soup.title.string.strip()\n",
        "\n",
        "            if page_title == \"Recipes - BBC Food\":\n",
        "                break\n",
        "\n",
        "            recipe_links = soup.find_all('a', class_='promo')\n",
        "\n",
        "            for recipe in recipe_links:\n",
        "                href = recipe.get('href')\n",
        "                if href:\n",
        "                    full_url = base_url + href if href.startswith('/') else href\n",
        "                    recipes.append(full_url)\n",
        "            # print(len(recipe_links))\n",
        "        else:\n",
        "            break"
      ],
      "outputs": [],
      "execution_count": null
    },
    {
      "cell_type": "code",
      "metadata": {
        "jukit_cell_id": "WeaqSUnN3j"
      },
      "source": [
        "len(recipes)"
      ],
      "outputs": [
        {
          "output_type": "stream",
          "name": "stdout",
          "text": "\n"
        },
        {
          "output_type": "execute_result",
          "execution_count": 1,
          "data": {
            "text/plain": "9688"
          },
          "metadata": {}
        }
      ],
      "execution_count": 1
    },
    {
      "cell_type": "code",
      "metadata": {
        "jukit_cell_id": "Xfgd8TX4hJ"
      },
      "source": [
        "# Save recipes to a CSV file\n",
        "csv_file = \"recipes.csv\"\n",
        "with open(csv_file, mode='w', newline='', encoding='utf-8') as file:\n",
        "    writer = csv.writer(file)\n",
        "    writer.writerow([\"Recipe URL\"])\n",
        "    for recipe in recipes:\n",
        "        writer.writerow([recipe])"
      ],
      "outputs": [],
      "execution_count": null
    },
    {
      "cell_type": "code",
      "metadata": {
        "jukit_cell_id": "4QhHcU8POU"
      },
      "source": [
        "# Loading the CSV file\n",
        "recipes = []\n",
        "csv_file = \"recipes.csv\"\n",
        "\n",
        "with open(csv_file, mode='r', newline='', encoding='utf-8') as file:\n",
        "    reader = csv.reader(file)\n",
        "    next(reader)\n",
        "    for row in reader:\n",
        "        if row:\n",
        "            recipes.append(row[0])"
      ],
      "outputs": [],
      "execution_count": null
    },
    {
      "cell_type": "markdown",
      "metadata": {
        "jukit_cell_id": "iUhYkYI3Ia"
      },
      "source": [
        "### Getting all the recipes"
      ]
    },
    {
      "cell_type": "code",
      "metadata": {
        "jukit_cell_id": "OufSgP449n"
      },
      "source": [
        "# Initializing the data\n",
        "data = []\n",
        "df = None"
      ],
      "outputs": [],
      "execution_count": null
    },
    {
      "cell_type": "code",
      "metadata": {
        "jukit_cell_id": "WkD3ZjbbKy"
      },
      "source": [
        "# Getting recipie from links\n",
        "recipe_link = \"https://www.bbc.co.uk/food/recipes/areturntotheblackfor_67199\"\n",
        "indices = [\"Recipe Name\", \"Recipe URL\", \"Ingredients\", \"Instructions\", \"Servings\", \"Prep Time\"]\n",
        "\n",
        "def get_recipe(recipe_link):\n",
        "    response = requests.get(recipe_link)\n",
        "\n",
        "    if response.status_code == 200:\n",
        "        try:\n",
        "            soup = BeautifulSoup(response.content, 'html.parser')\n",
        "\n",
        "            recipe_name = soup.find('h1', class_='gel-trafalgar').get_text(strip=True) if soup.find(\n",
        "                'h1', class_='gel-trafalgar') else None\n",
        "            ingredients = [ingredient.get_text(strip=True) if ingredient else None\n",
        "                           for ingredient in soup.find_all('li', class_='recipe-ingredients__list-item')]\n",
        "            instructions = [step.get_text(strip=True) if step else None for step in soup.find_all(\n",
        "                'li', class_='recipe-method__list-item')]\n",
        "            servings = soup.find('p', class_='recipe-metadata__serving').get_text(strip=True) if soup.find(\n",
        "                'p', class_='recipe-metadata__serving') else None\n",
        "            prep_time = soup.find('p', class_='recipe-metadata__prep-time').get_text(strip=True) if soup.find(\n",
        "                'p', class_='recipe-metadata__prep-time') else None\n",
        "        except Exception as e:\n",
        "            print(f\"\\nFailed to get the recipe from {recipe_link}\\nError: {e}\")\n",
        "            return None\n",
        "\n",
        "        return pd.Series([recipe_name, recipe_link, ingredients, instructions, servings, prep_time], index=indices)\n",
        "    else:\n",
        "        print(f\"\\nFailed to get the recipe from {recipe_link}\")\n",
        "        return None\n",
        "\n",
        "\n",
        "get_recipe(recipe_link)"
      ],
      "outputs": [
        {
          "output_type": "stream",
          "name": "stdout",
          "text": "\n"
        },
        {
          "output_type": "execute_result",
          "execution_count": 2,
          "data": {
            "text/plain": "Recipe Name                          A return to the Black Forest\nRecipe URL      https://www.bbc.co.uk/food/recipes/areturntoth...\nIngredients     [225g/8ozdark chocolate(75 per cent cocoa soli...\nInstructions    [Pre-heat the oven to 180C/350F/Gas 4., Break ...\nServings                                             Serves 10-12\nPrep Time                                               1-2 hours\ndtype: object"
          },
          "metadata": {}
        }
      ],
      "execution_count": 2
    },
    {
      "cell_type": "code",
      "metadata": {
        "jukit_cell_id": "lSLB1pUDxV"
      },
      "source": [
        "# Getting all the recipies\n",
        "i = 0\n",
        "for recipe in tqdm(recipes):\n",
        "    if i < 2984:\n",
        "        i += 1\n",
        "        continue\n",
        "    webpage_data = get_recipe(recipe)\n",
        "    if webpage_data is not None:\n",
        "        data.append(webpage_data)\n",
        "\n",
        "df = pd.DataFrame(data, columns=indices)\n",
        "df"
      ],
      "outputs": [
        {
          "output_type": "stream",
          "name": "stdout",
          "text": "Failed to get the recipe from https://www.bbc.co.uk/food/recipes/gteau_saint_honor_39706\nFailed to get the recipe from https://www.bbc.co.uk/food/recipes/italian_style_meatballs_69955\nFailed to get the recipe from https://www.bbc.co.uk/food/recipes/pan_fried_red_mullet_48324\nFailed to get the recipe from https://www.bbc.co.uk/food/recipes/cullohillrhubarbpie_11635\nFailed to get the recipe from https://www.bbc.co.uk/food/recipes/rib-eye_steak_with_smoky_92982\nFailed to get the recipe from https://www.bbc.co.uk/food/recipes/seabasswithtomatooli_72150\nFailed to get the recipe from https://www.bbc.co.uk/food/recipes/seabass_with_mussels_41984\nFailed to get the recipe from https://www.bbc.co.uk/food/recipes/venison_coconut-curried_11281\n"
        },
        {
          "output_type": "execute_result",
          "execution_count": 3,
          "data": {
            "text/plain": "                                            Recipe Name  ...          Prep Time\n0                          A return to the Black Forest  ...          1-2 hours\n1                           Aberdeen butteries (Rowies)  ...          1-2 hours\n2                                    Ackee and saltfish  ...  less than 30 mins\n3     Acqua e sale (Puglian bread salad) with marina...  ...  less than 30 mins\n4            Acqua pazza with hake, fennel and tomatoes  ...  less than 30 mins\n...                                                 ...  ...                ...\n9675                            Za\u2019atar cod with relish  ...  less than 30 mins\n9676                                            Zeppole  ...          1-2 hours\n9677                          Zeppole festive doughnuts  ...  less than 30 mins\n9678                          Zesty chilli tiger prawns  ...  less than 30 mins\n9679                                       Zoe\u2019s jollof  ...  less than 30 mins\n\n[9680 rows x 6 columns]"
          },
          "metadata": {}
        }
      ],
      "execution_count": 3
    },
    {
      "cell_type": "code",
      "metadata": {
        "jukit_cell_id": "dlXHOd8eTZ"
      },
      "source": [
        "# Removing the rows duplicates\n",
        "df.drop_duplicates(inplace=True)\n",
        "\n",
        "# add a column to the dataframe to store the recipe id\n",
        "df['Recipe ID'] = range(1, len(df) + 1)\n",
        "\n",
        "# Move the 'Recipe ID' column to the first position\n",
        "recipe_id = df.pop('Recipe ID')\n",
        "df.insert(0, 'Recipe ID', recipe_id)"
      ],
      "outputs": [
        {
          "output_type": "stream",
          "name": "stdout",
          "text": "\n"
        },
        {
          "output_type": "execute_result",
          "execution_count": 4,
          "data": {
            "text/plain": "      Recipe ID  ...          Prep Time\n0             1  ...          1-2 hours\n1             2  ...          1-2 hours\n2             3  ...  less than 30 mins\n3             4  ...  less than 30 mins\n4             5  ...  less than 30 mins\n...         ...  ...                ...\n9674       9675  ...  less than 30 mins\n9675       9676  ...          1-2 hours\n9676       9677  ...  less than 30 mins\n9677       9678  ...  less than 30 mins\n9678       9679  ...  less than 30 mins\n\n[9679 rows x 7 columns]"
          },
          "metadata": {}
        }
      ],
      "execution_count": 4
    },
    {
      "cell_type": "code",
      "metadata": {
        "jukit_cell_id": "5v9UTQRu6H"
      },
      "source": [
        "# Saving the df to a CSV file\n",
        "df.to_csv(\"recipes_data.csv\", index=False)"
      ],
      "outputs": [],
      "execution_count": null
    },
    {
      "cell_type": "code",
      "metadata": {
        "jukit_cell_id": "yGSaBqcowN"
      },
      "source": [
        "# Loading the CSV file\n",
        "df = pd.read_csv(\"recipes_data.csv\")\n",
        "df"
      ],
      "outputs": [
        {
          "output_type": "stream",
          "name": "stdout",
          "text": "\n"
        },
        {
          "output_type": "execute_result",
          "execution_count": 5,
          "data": {
            "text/plain": "      Recipe ID  ...          Prep Time\n0             1  ...          1-2 hours\n1             2  ...          1-2 hours\n2             3  ...  less than 30 mins\n3             4  ...  less than 30 mins\n4             5  ...  less than 30 mins\n...         ...  ...                ...\n9674       9675  ...  less than 30 mins\n9675       9676  ...          1-2 hours\n9676       9677  ...  less than 30 mins\n9677       9678  ...  less than 30 mins\n9678       9679  ...  less than 30 mins\n\n[9679 rows x 7 columns]"
          },
          "metadata": {}
        }
      ],
      "execution_count": 5
    },
    {
      "cell_type": "markdown",
      "metadata": {
        "jukit_cell_id": "jVWjqNLx1X"
      },
      "source": [
        "## Part (b)"
      ]
    },
    {
      "cell_type": "code",
      "metadata": {
        "jukit_cell_id": "g7olBvXneW"
      },
      "source": [
        "# Initialising the variables\n",
        "ingredients_df = pd.DataFrame(columns=[\"Recipe ID\", \"Ingredient Phrase\", \"Ingredients\"])"
      ],
      "outputs": [],
      "execution_count": null
    },
    {
      "cell_type": "code",
      "metadata": {
        "jukit_cell_id": "MsoUABDDjW"
      },
      "source": [
        "# NER on the ingredients\n",
        "device = torch.device(\"mps\" if torch.backends.mps.is_available() else \"cpu\")\n",
        "tokenizer = AutoTokenizer.from_pretrained(\"Dizex/InstaFoodRoBERTa-NER\")\n",
        "model = AutoModelForTokenClassification.from_pretrained(\"Dizex/InstaFoodRoBERTa-NER\").to(device)\n",
        "\n",
        "ner = pipeline(\"ner\", model=model, tokenizer=tokenizer, device='mps' if torch.backends.mps.is_available() else 'cpu')\n",
        "\n",
        "def ner_result(text):\n",
        "    # Get the ingredients from doc\n",
        "    ingredients = ner(text)\n",
        "    return ingredients\n",
        "\n",
        "def convert_entities_to_list(text, entities: list[dict]) -> list[str]:\n",
        "    ents = []\n",
        "    for ent in entities:\n",
        "        e = {\"start\": ent[\"start\"], \"end\": ent[\"end\"], \"label\": ent[\"entity\"]}\n",
        "        if ents and -1 <= ent[\"start\"] - ents[-1][\"end\"] <= 1 and ents[-1][\"label\"] == e[\"label\"]:\n",
        "            ents[-1][\"end\"] = e[\"end\"]\n",
        "            continue\n",
        "        ents.append(e)\n",
        "\n",
        "    return [text[e[\"start\"]:e[\"end\"]] for e in ents]\n",
        "\n",
        "def get_ingredients(text):\n",
        "    ingredients = []\n",
        "    for item in eval(text):\n",
        "        ingredient = \" \".join(convert_entities_to_list(item, ner_result(item)))\n",
        "        if ingredient.strip() != \"\":\n",
        "            ingredients.append(ingredient)\n",
        "\n",
        "    return ingredients\n",
        "\n",
        "\n",
        "print(df['Ingredients'][1])\n",
        "# print(convert_entities_to_list(df[\"Ingredients\"][0], ner_result(df['Ingredients'][0])))\n",
        "#\n",
        "# print(\"\\n\\n\")\n",
        "print(get_ingredients(df['Ingredients'][1]))"
      ],
      "outputs": [
        {
          "output_type": "stream",
          "name": "stdout",
          "text": "['500g/1lb 2oz strong plain flour, plus extra for dusting', '1 x 7g sachet easy-blend driedyeast', '1 tbsp soft lightbrown sugar', '1 tbsp seasaltflakes', '350ml/12\u00bcfl oz warm water', 'vegetable oil, for greasing', '275g/9\u00beozbutter, plus extra to serve', '100g/3\u00bdozlard', 'ready-madejam, to serve']\n['plain flour', 'sachet', 'lightbrown sugar', 'seasaltflakes', 'water', 'vegetable oil', 'butter', 'ozlard']\n"
        }
      ],
      "execution_count": 6
    },
    {
      "cell_type": "code",
      "metadata": {
        "jukit_cell_id": "fhYqvxYeTZ"
      },
      "source": [
        "# Doing NER on the whole dataframe\n",
        "total_operations = len(df)\n",
        "for index, row in tqdm(df.iterrows(), total=total_operations):\n",
        "    ingredients = get_ingredients(row['Ingredients'])\n",
        "    new_row = pd.Series([row[\"Recipe ID\"], row['Ingredients'], ingredients], index=ingredients_df.columns)\n",
        "    ingredients_df = pd.concat([ingredients_df, new_row.to_frame().T], ignore_index=True)\n",
        "    # ingredients_df = ingredients_df.append({\"Recipe ID\": row[\"Recipe ID\"], \"Ingredient Phrase\": row['Ingredients'],\n",
        "    #                                         \"Ingredients\": ingredients}, ignore_index=True)\n",
        "    # break\n",
        "ingredients_df"
      ],
      "outputs": [
        {
          "output_type": "stream",
          "name": "stdout",
          "text": "\n"
        },
        {
          "output_type": "execute_result",
          "execution_count": 7,
          "data": {
            "text/plain": "     Recipe ID  ...                                        Ingredients\n0            1  ...  [dark chocolate cocoa, s, morellocherries, che...\n1            2  ...  [plain flour, sachet, lightbrown sugar, seasal...\n2            3  ...  [able oil, 2onions, garlic, pinchthymeleaves, ...\n3            4  ...  [onions, softbrown sugar, red wine vinegar bal...\n4            5  ...  [2hakefillets, 1fennelbulb, garliccloves, redc...\n...        ...  ...                                                ...\n9674      9675  ...  [Za\u2019atar, tbspolive oil, primecodfillet loin f...\n9675      9676  ...  [all-purposepotatoes, driedyeast, water, plain...\n9676      9677  ...  [plain flour, tbspolive oil, runnyhoney, limon...\n9677      9678  ...  [groundnut oil orvegetable oil, 5garliccloves,...\n9678      9679  ...  [thighs drumsticks, largeonion, Scotch bonnet ...\n\n[9679 rows x 3 columns]"
          },
          "metadata": {}
        }
      ],
      "execution_count": 7
    },
    {
      "cell_type": "code",
      "metadata": {
        "jukit_cell_id": "ymc2nIn0JC"
      },
      "source": [
        "# Saving the df to a CSV file\n",
        "ingredients_df.to_csv(\"ingredients_data.csv\", index=False)"
      ],
      "outputs": [],
      "execution_count": null
    },
    {
      "cell_type": "code",
      "metadata": {
        "jukit_cell_id": "pRAwbpHvxT"
      },
      "source": [
        "# Loading the CSV file\n",
        "ingredients_df = pd.read_csv(\"ingredients_data.csv\")"
      ],
      "outputs": [],
      "execution_count": null
    },
    {
      "cell_type": "markdown",
      "metadata": {
        "jukit_cell_id": "MgLb8zt7Xx"
      },
      "source": [
        "## Part (c)"
      ]
    },
    {
      "cell_type": "code",
      "metadata": {
        "jukit_cell_id": "ibEUZjIN3r"
      },
      "source": [
        "# Modifying the df to required format\n",
        "recipe_ingredient_df = pd.DataFrame(columns=[\"Recipe ID\", \"Ingredient\"])\n",
        "\n",
        "random_sample = df.sample(n=100, random_state=1)\n",
        "\n",
        "new_rows = []\n",
        "for index, row in tqdm(random_sample.iterrows(), total=random_sample.shape[0]):\n",
        "    recipe_id = row[\"Recipe ID\"]\n",
        "    ingredients = ingredients_df[ingredients_df[\"Recipe ID\"] == recipe_id][\"Ingredients\"].values[0]\n",
        "    for ingredient in ingredients:\n",
        "        new_rows.append({\"Recipe ID\": recipe_id, \"Ingredient\": ingredient})\n",
        "\n",
        "recipe_ingredient_df = pd.DataFrame(new_rows)\n",
        "\n",
        "recipe_ingredient_df"
      ],
      "outputs": [
        {
          "output_type": "stream",
          "name": "stdout",
          "text": "\n"
        },
        {
          "output_type": "execute_result",
          "execution_count": 8,
          "data": {
            "text/plain": "      Recipe ID     Ingredient\n0          3566  vegetable oil\n1          3566  goats\u2019 cheese\n2          3566          flour\n3          3566    breadcrumbs\n4          3566      freshpeas\n...         ...            ...\n1295       5229            egg\n1296       5229      mincemeat\n1297       5229     ozmarzipan\n1298       5229    icing sugar\n1299       5229   brandy cream\n\n[1300 rows x 2 columns]"
          },
          "metadata": {}
        }
      ],
      "execution_count": 8
    },
    {
      "cell_type": "code",
      "metadata": {
        "jukit_cell_id": "OhvQs7Q3Gi"
      },
      "source": [
        "# Saving the df to a CSV file\n",
        "recipe_ingredient_df.to_csv(\"recipe_ingredient_data.csv\", index=False)"
      ],
      "outputs": [],
      "execution_count": null
    },
    {
      "cell_type": "code",
      "metadata": {
        "jukit_cell_id": "8jVg8J8a5H"
      },
      "source": [
        "# Loading the CSV file\n",
        "recipe_ingredient_df = pd.read_csv(\"recipe_ingredient_data.csv\")"
      ],
      "outputs": [],
      "execution_count": null
    }
  ],
  "metadata": {
    "anaconda-cloud": {},
    "kernelspec": {
      "display_name": "python",
      "language": "python",
      "name": "python3"
    }
  },
  "nbformat": 4,
  "nbformat_minor": 4
}